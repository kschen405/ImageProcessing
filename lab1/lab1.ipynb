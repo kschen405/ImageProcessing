{
 "cells": [
  {
   "cell_type": "code",
   "execution_count": 11,
   "metadata": {},
   "outputs": [],
   "source": [
    "import cv2\n",
    "import numpy as np\n",
    "from histogram_equalization import histogram_equalization\n",
    "from guassian_blur import guassian_blur\n",
    "from median_filter import median_filter\n",
    "from adjust_hsv import adjust_HSV"
   ]
  },
  {
   "cell_type": "code",
   "execution_count": 12,
   "metadata": {},
   "outputs": [
    {
     "name": "stdout",
     "output_type": "stream",
     "text": [
      "in filter\n",
      "start shape\n",
      "3\n",
      "(665, 665, 3)\n",
      "finish shape\n"
     ]
    },
    {
     "ename": "ValueError",
     "evalue": "The truth value of an array with more than one element is ambiguous. Use a.any() or a.all()",
     "output_type": "error",
     "traceback": [
      "\u001b[1;31m---------------------------------------------------------------------------\u001b[0m",
      "\u001b[1;31mValueError\u001b[0m                                Traceback (most recent call last)",
      "Cell \u001b[1;32mIn [12], line 12\u001b[0m\n\u001b[0;32m      6\u001b[0m \u001b[39m# median filter for color images\u001b[39;00m\n\u001b[0;32m      7\u001b[0m \u001b[39m# median_img = img.copy()\u001b[39;00m\n\u001b[0;32m      8\u001b[0m \u001b[39m# median_img[:,:,0] = median_filter(median_img[:,:,0], k_size=5)\u001b[39;00m\n\u001b[0;32m      9\u001b[0m \u001b[39m# median_img[:,:,1] = median_filter(median_img[:,:,1], k_size=5)\u001b[39;00m\n\u001b[0;32m     10\u001b[0m \u001b[39m# median_img[:,:,2] = median_filter(median_img[:,:,2], k_size=5)\u001b[39;00m\n\u001b[0;32m     11\u001b[0m \u001b[39mprint\u001b[39m(\u001b[39m\"\u001b[39m\u001b[39min filter\u001b[39m\u001b[39m\"\u001b[39m)\n\u001b[1;32m---> 12\u001b[0m median_img \u001b[39m=\u001b[39m median_filter(img, k_size\u001b[39m=\u001b[39;49m\u001b[39m3\u001b[39;49m)\n\u001b[0;32m     13\u001b[0m \u001b[39mprint\u001b[39m(\u001b[39m\"\u001b[39m\u001b[39mout filter\u001b[39m\u001b[39m\"\u001b[39m)\n\u001b[0;32m     14\u001b[0m compare_display \u001b[39m=\u001b[39m np\u001b[39m.\u001b[39mconcatenate((img, median_img), axis\u001b[39m=\u001b[39m\u001b[39m1\u001b[39m)\n",
      "File \u001b[1;32mc:\\Users\\Terry\\Desktop\\Class\\ImageProcessing\\median_filter.py:25\u001b[0m, in \u001b[0;36mmedian_filter\u001b[1;34m(img, k_size)\u001b[0m\n\u001b[0;32m     23\u001b[0m             \u001b[39mfor\u001b[39;00m v \u001b[39min\u001b[39;00m \u001b[39mrange\u001b[39m(\u001b[39m-\u001b[39mk, k\u001b[39m+\u001b[39m\u001b[39m1\u001b[39m):\n\u001b[0;32m     24\u001b[0m                 receptive_lst\u001b[39m.\u001b[39mappend(img[i\u001b[39m+\u001b[39mu, j\u001b[39m+\u001b[39mv]) \n\u001b[1;32m---> 25\u001b[0m receptive_lst\u001b[39m.\u001b[39;49msort()\n\u001b[0;32m     26\u001b[0m m \u001b[39m=\u001b[39m \u001b[39mint\u001b[39m(\u001b[39mlen\u001b[39m(receptive_lst)\u001b[39m/\u001b[39m\u001b[39m2\u001b[39m)\n\u001b[0;32m     27\u001b[0m \u001b[39mif\u001b[39;00m receptive_lst \u001b[39m!=\u001b[39m []:\n",
      "\u001b[1;31mValueError\u001b[0m: The truth value of an array with more than one element is ambiguous. Use a.any() or a.all()"
     ]
    }
   ],
   "source": [
    "# test1.jpg\n",
    "img = cv2.imread('test1.jpg')\n",
    "# img = cv2.resize(img, (480, 360))  \n",
    "h, w, c = img.shape\n",
    "\n",
    "# median filter for color images\n",
    "# median_img = img.copy()\n",
    "# median_img[:,:,0] = median_filter(median_img[:,:,0], k_size=5)\n",
    "# median_img[:,:,1] = median_filter(median_img[:,:,1], k_size=5)\n",
    "# median_img[:,:,2] = median_filter(median_img[:,:,2], k_size=5)\n",
    "print(\"in filter\")\n",
    "median_img = median_filter(img, k_size=3)\n",
    "print(\"out filter\")\n",
    "compare_display = np.concatenate((img, median_img), axis=1)\n",
    "cv2.imshow('test1_hq', compare_display)\n",
    "cv2.waitKey(0)\n",
    "\n",
    "# hsv_img = cv2.cvtColor(img, cv2.COLOR_BGR2HSV)\n",
    "# hsv_img[:,:,2] = histogram_equalization(hsv_img[:,:,2])\n",
    "# hq_img = cv2.cvtColor(hsv_img, cv2.COLOR_HSV2BGR)\n",
    "\n",
    "# compare_display = np.concatenate((img, hq_img), axis=1)\n",
    "# cv2.imshow('test1_hq', compare_display)\n",
    "# cv2.waitKey(0)\n"
   ]
  },
  {
   "cell_type": "code",
   "execution_count": null,
   "metadata": {},
   "outputs": [],
   "source": [
    "\n"
   ]
  },
  {
   "cell_type": "code",
   "execution_count": null,
   "metadata": {},
   "outputs": [],
   "source": [
    "# blurr_img = guassian_blur(hq_img, k_size=3)\n",
    "# compare_display = np.concatenate((img, blurr_img), axis=1)\n",
    "# cv2.imshow('test1_hq', compare_display)\n",
    "# cv2.waitKey(0)"
   ]
  },
  {
   "cell_type": "code",
   "execution_count": null,
   "metadata": {},
   "outputs": [],
   "source": [
    "# # median filter for color images\n",
    "# median_img = hq_img.copy()\n",
    "# median_img[:,:,0] = median_filter(median_img[:,:,0], k_size=5)\n",
    "# median_img[:,:,1] = median_filter(median_img[:,:,1], k_size=5)\n",
    "# median_img[:,:,2] = median_filter(median_img[:,:,2], k_size=5)\n",
    "# compare_display = np.concatenate((img, median_img), axis=1)\n",
    "# cv2.imshow('test1_hq', compare_display)\n",
    "# cv2.waitKey(0)"
   ]
  },
  {
   "cell_type": "code",
   "execution_count": null,
   "metadata": {},
   "outputs": [],
   "source": [
    "# # median filter for gray images\n",
    "# gray_img = cv2.cvtColor(img, cv2.COLOR_BGR2GRAY)\n",
    "\n",
    "# median_img = median_filter(gray_img, k_size=5)\n",
    "# compare_display = np.concatenate((gray_img, median_img), axis=1)\n",
    "# cv2.imshow('test1_hq', compare_display)\n",
    "# cv2.waitKey(0)"
   ]
  },
  {
   "cell_type": "code",
   "execution_count": null,
   "metadata": {},
   "outputs": [],
   "source": [
    "\n",
    "\n",
    "# hsv_img = adjust_HSV(img, 1.5, 2, 1)\n",
    "# compare_display = np.concatenate((img, hsv_img), axis=1)\n",
    "# cv2.imshow('test1_hq', compare_display)\n",
    "# cv2.waitKey(0)"
   ]
  },
  {
   "cell_type": "code",
   "execution_count": null,
   "metadata": {},
   "outputs": [],
   "source": []
  },
  {
   "cell_type": "code",
   "execution_count": null,
   "metadata": {},
   "outputs": [],
   "source": []
  },
  {
   "cell_type": "code",
   "execution_count": null,
   "metadata": {},
   "outputs": [],
   "source": []
  },
  {
   "cell_type": "code",
   "execution_count": null,
   "metadata": {},
   "outputs": [],
   "source": []
  }
 ],
 "metadata": {
  "kernelspec": {
   "display_name": "Python 3.10.5 64-bit",
   "language": "python",
   "name": "python3"
  },
  "language_info": {
   "codemirror_mode": {
    "name": "ipython",
    "version": 3
   },
   "file_extension": ".py",
   "mimetype": "text/x-python",
   "name": "python",
   "nbconvert_exporter": "python",
   "pygments_lexer": "ipython3",
   "version": "3.10.5"
  },
  "orig_nbformat": 4,
  "vscode": {
   "interpreter": {
    "hash": "2cefb6477faab595c65c4416ff83d6c7b73571d0f54d603d29c372c95ba24cd5"
   }
  }
 },
 "nbformat": 4,
 "nbformat_minor": 2
}
